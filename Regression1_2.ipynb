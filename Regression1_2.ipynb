{
  "nbformat": 4,
  "nbformat_minor": 0,
  "metadata": {
    "colab": {
      "provenance": [],
      "collapsed_sections": []
    },
    "kernelspec": {
      "name": "python3",
      "display_name": "Python 3"
    },
    "language_info": {
      "name": "python"
    }
  },
  "cells": [
    {
      "cell_type": "markdown",
      "source": [
        "Ваша задача - построить предиктивную модель предсказания целевой переменной в зависимости от значения нескольких факторов (признаков)."
      ],
      "metadata": {
        "id": "KIUo723WJJx9"
      }
    },
    {
      "cell_type": "code",
      "source": [
        "import pandas as pd\n",
        "import random\n",
        "import matplotlib.pyplot as plt\n",
        "import numpy as np"
      ],
      "metadata": {
        "id": "WxfTzu3LJVwk"
      },
      "execution_count": 17,
      "outputs": []
    },
    {
      "cell_type": "markdown",
      "source": [
        "Загрузите датасет из приложения. Вам понадобится два файла - отдельно с признаками (помечен x) и значениями целевой переменной (помечен y). Файлы не содержат заголовков столбцов и строк."
      ],
      "metadata": {
        "id": "HL0f7lvoKmLp"
      }
    },
    {
      "cell_type": "code",
      "source": [
        "x_ = pd.read_csv('11_x.csv',names=['x1','x2','x3','x4','x5'])\n",
        "y_ = pd.read_csv('11_y.csv', names = ['Y'])"
      ],
      "metadata": {
        "id": "Mc5RVhq3J_UC"
      },
      "execution_count": 52,
      "outputs": []
    },
    {
      "cell_type": "markdown",
      "source": [
        "Сделайте количественное описание датасета: количество точек данных, признаков, статистику по каждому признаку."
      ],
      "metadata": {
        "id": "7n7k8znyKrIJ"
      }
    },
    {
      "cell_type": "code",
      "source": [
        "x_.shape"
      ],
      "metadata": {
        "colab": {
          "base_uri": "https://localhost:8080/"
        },
        "id": "TwksMRrNKwO8",
        "outputId": "5ca30799-af4c-4937-9ef8-9b9dd896d083"
      },
      "execution_count": 53,
      "outputs": [
        {
          "output_type": "execute_result",
          "data": {
            "text/plain": [
              "(66, 5)"
            ]
          },
          "metadata": {},
          "execution_count": 53
        }
      ]
    },
    {
      "cell_type": "code",
      "source": [
        "x_.describe()"
      ],
      "metadata": {
        "colab": {
          "base_uri": "https://localhost:8080/",
          "height": 300
        },
        "id": "S7jWb6CoK67K",
        "outputId": "916a50b7-0915-4e92-dd72-37fe9f41e2f3"
      },
      "execution_count": 54,
      "outputs": [
        {
          "output_type": "execute_result",
          "data": {
            "text/plain": [
              "              x1         x2         x3         x4         x5\n",
              "count  66.000000  66.000000  66.000000  66.000000  66.000000\n",
              "mean   -0.030777  -0.010728   0.046851   0.204618   0.115513\n",
              "std     1.089200   0.960890   1.007246   1.212652   1.031296\n",
              "min    -2.275397  -2.538548  -1.853401  -2.837253  -2.178582\n",
              "25%    -0.829504  -0.610886  -0.796535  -0.723116  -0.499444\n",
              "50%    -0.023577   0.015184   0.123631   0.267437   0.009668\n",
              "75%     0.674766   0.679896   0.815196   0.987150   0.869323\n",
              "max     2.910753   2.802265   2.081260   2.854461   2.496833"
            ],
            "text/html": [
              "\n",
              "  <div id=\"df-837a4ebb-8a23-4d0a-9f49-0100ddd6b9fc\">\n",
              "    <div class=\"colab-df-container\">\n",
              "      <div>\n",
              "<style scoped>\n",
              "    .dataframe tbody tr th:only-of-type {\n",
              "        vertical-align: middle;\n",
              "    }\n",
              "\n",
              "    .dataframe tbody tr th {\n",
              "        vertical-align: top;\n",
              "    }\n",
              "\n",
              "    .dataframe thead th {\n",
              "        text-align: right;\n",
              "    }\n",
              "</style>\n",
              "<table border=\"1\" class=\"dataframe\">\n",
              "  <thead>\n",
              "    <tr style=\"text-align: right;\">\n",
              "      <th></th>\n",
              "      <th>x1</th>\n",
              "      <th>x2</th>\n",
              "      <th>x3</th>\n",
              "      <th>x4</th>\n",
              "      <th>x5</th>\n",
              "    </tr>\n",
              "  </thead>\n",
              "  <tbody>\n",
              "    <tr>\n",
              "      <th>count</th>\n",
              "      <td>66.000000</td>\n",
              "      <td>66.000000</td>\n",
              "      <td>66.000000</td>\n",
              "      <td>66.000000</td>\n",
              "      <td>66.000000</td>\n",
              "    </tr>\n",
              "    <tr>\n",
              "      <th>mean</th>\n",
              "      <td>-0.030777</td>\n",
              "      <td>-0.010728</td>\n",
              "      <td>0.046851</td>\n",
              "      <td>0.204618</td>\n",
              "      <td>0.115513</td>\n",
              "    </tr>\n",
              "    <tr>\n",
              "      <th>std</th>\n",
              "      <td>1.089200</td>\n",
              "      <td>0.960890</td>\n",
              "      <td>1.007246</td>\n",
              "      <td>1.212652</td>\n",
              "      <td>1.031296</td>\n",
              "    </tr>\n",
              "    <tr>\n",
              "      <th>min</th>\n",
              "      <td>-2.275397</td>\n",
              "      <td>-2.538548</td>\n",
              "      <td>-1.853401</td>\n",
              "      <td>-2.837253</td>\n",
              "      <td>-2.178582</td>\n",
              "    </tr>\n",
              "    <tr>\n",
              "      <th>25%</th>\n",
              "      <td>-0.829504</td>\n",
              "      <td>-0.610886</td>\n",
              "      <td>-0.796535</td>\n",
              "      <td>-0.723116</td>\n",
              "      <td>-0.499444</td>\n",
              "    </tr>\n",
              "    <tr>\n",
              "      <th>50%</th>\n",
              "      <td>-0.023577</td>\n",
              "      <td>0.015184</td>\n",
              "      <td>0.123631</td>\n",
              "      <td>0.267437</td>\n",
              "      <td>0.009668</td>\n",
              "    </tr>\n",
              "    <tr>\n",
              "      <th>75%</th>\n",
              "      <td>0.674766</td>\n",
              "      <td>0.679896</td>\n",
              "      <td>0.815196</td>\n",
              "      <td>0.987150</td>\n",
              "      <td>0.869323</td>\n",
              "    </tr>\n",
              "    <tr>\n",
              "      <th>max</th>\n",
              "      <td>2.910753</td>\n",
              "      <td>2.802265</td>\n",
              "      <td>2.081260</td>\n",
              "      <td>2.854461</td>\n",
              "      <td>2.496833</td>\n",
              "    </tr>\n",
              "  </tbody>\n",
              "</table>\n",
              "</div>\n",
              "      <button class=\"colab-df-convert\" onclick=\"convertToInteractive('df-837a4ebb-8a23-4d0a-9f49-0100ddd6b9fc')\"\n",
              "              title=\"Convert this dataframe to an interactive table.\"\n",
              "              style=\"display:none;\">\n",
              "        \n",
              "  <svg xmlns=\"http://www.w3.org/2000/svg\" height=\"24px\"viewBox=\"0 0 24 24\"\n",
              "       width=\"24px\">\n",
              "    <path d=\"M0 0h24v24H0V0z\" fill=\"none\"/>\n",
              "    <path d=\"M18.56 5.44l.94 2.06.94-2.06 2.06-.94-2.06-.94-.94-2.06-.94 2.06-2.06.94zm-11 1L8.5 8.5l.94-2.06 2.06-.94-2.06-.94L8.5 2.5l-.94 2.06-2.06.94zm10 10l.94 2.06.94-2.06 2.06-.94-2.06-.94-.94-2.06-.94 2.06-2.06.94z\"/><path d=\"M17.41 7.96l-1.37-1.37c-.4-.4-.92-.59-1.43-.59-.52 0-1.04.2-1.43.59L10.3 9.45l-7.72 7.72c-.78.78-.78 2.05 0 2.83L4 21.41c.39.39.9.59 1.41.59.51 0 1.02-.2 1.41-.59l7.78-7.78 2.81-2.81c.8-.78.8-2.07 0-2.86zM5.41 20L4 18.59l7.72-7.72 1.47 1.35L5.41 20z\"/>\n",
              "  </svg>\n",
              "      </button>\n",
              "      \n",
              "  <style>\n",
              "    .colab-df-container {\n",
              "      display:flex;\n",
              "      flex-wrap:wrap;\n",
              "      gap: 12px;\n",
              "    }\n",
              "\n",
              "    .colab-df-convert {\n",
              "      background-color: #E8F0FE;\n",
              "      border: none;\n",
              "      border-radius: 50%;\n",
              "      cursor: pointer;\n",
              "      display: none;\n",
              "      fill: #1967D2;\n",
              "      height: 32px;\n",
              "      padding: 0 0 0 0;\n",
              "      width: 32px;\n",
              "    }\n",
              "\n",
              "    .colab-df-convert:hover {\n",
              "      background-color: #E2EBFA;\n",
              "      box-shadow: 0px 1px 2px rgba(60, 64, 67, 0.3), 0px 1px 3px 1px rgba(60, 64, 67, 0.15);\n",
              "      fill: #174EA6;\n",
              "    }\n",
              "\n",
              "    [theme=dark] .colab-df-convert {\n",
              "      background-color: #3B4455;\n",
              "      fill: #D2E3FC;\n",
              "    }\n",
              "\n",
              "    [theme=dark] .colab-df-convert:hover {\n",
              "      background-color: #434B5C;\n",
              "      box-shadow: 0px 1px 3px 1px rgba(0, 0, 0, 0.15);\n",
              "      filter: drop-shadow(0px 1px 2px rgba(0, 0, 0, 0.3));\n",
              "      fill: #FFFFFF;\n",
              "    }\n",
              "  </style>\n",
              "\n",
              "      <script>\n",
              "        const buttonEl =\n",
              "          document.querySelector('#df-837a4ebb-8a23-4d0a-9f49-0100ddd6b9fc button.colab-df-convert');\n",
              "        buttonEl.style.display =\n",
              "          google.colab.kernel.accessAllowed ? 'block' : 'none';\n",
              "\n",
              "        async function convertToInteractive(key) {\n",
              "          const element = document.querySelector('#df-837a4ebb-8a23-4d0a-9f49-0100ddd6b9fc');\n",
              "          const dataTable =\n",
              "            await google.colab.kernel.invokeFunction('convertToInteractive',\n",
              "                                                     [key], {});\n",
              "          if (!dataTable) return;\n",
              "\n",
              "          const docLinkHtml = 'Like what you see? Visit the ' +\n",
              "            '<a target=\"_blank\" href=https://colab.research.google.com/notebooks/data_table.ipynb>data table notebook</a>'\n",
              "            + ' to learn more about interactive tables.';\n",
              "          element.innerHTML = '';\n",
              "          dataTable['output_type'] = 'display_data';\n",
              "          await google.colab.output.renderOutput(dataTable, element);\n",
              "          const docLink = document.createElement('div');\n",
              "          docLink.innerHTML = docLinkHtml;\n",
              "          element.appendChild(docLink);\n",
              "        }\n",
              "      </script>\n",
              "    </div>\n",
              "  </div>\n",
              "  "
            ]
          },
          "metadata": {},
          "execution_count": 54
        }
      ]
    },
    {
      "cell_type": "code",
      "source": [
        "y_.shape"
      ],
      "metadata": {
        "colab": {
          "base_uri": "https://localhost:8080/"
        },
        "id": "TZwndcZBLArw",
        "outputId": "9a71b481-79e4-4eea-ce68-6c335fe937dc"
      },
      "execution_count": 55,
      "outputs": [
        {
          "output_type": "execute_result",
          "data": {
            "text/plain": [
              "(66, 1)"
            ]
          },
          "metadata": {},
          "execution_count": 55
        }
      ]
    },
    {
      "cell_type": "code",
      "source": [
        "y_.describe()"
      ],
      "metadata": {
        "colab": {
          "base_uri": "https://localhost:8080/",
          "height": 300
        },
        "id": "4P_AwrKhLBu4",
        "outputId": "e347d59a-b52a-4559-814c-14ce97d45b3d"
      },
      "execution_count": 56,
      "outputs": [
        {
          "output_type": "execute_result",
          "data": {
            "text/plain": [
              "                Y\n",
              "count   66.000000\n",
              "mean    -0.256583\n",
              "std     68.202192\n",
              "min   -169.589483\n",
              "25%    -48.813907\n",
              "50%      2.753673\n",
              "75%     47.929578\n",
              "max    193.971047"
            ],
            "text/html": [
              "\n",
              "  <div id=\"df-daefbcc7-82f0-48c5-aa76-2cc4f017decb\">\n",
              "    <div class=\"colab-df-container\">\n",
              "      <div>\n",
              "<style scoped>\n",
              "    .dataframe tbody tr th:only-of-type {\n",
              "        vertical-align: middle;\n",
              "    }\n",
              "\n",
              "    .dataframe tbody tr th {\n",
              "        vertical-align: top;\n",
              "    }\n",
              "\n",
              "    .dataframe thead th {\n",
              "        text-align: right;\n",
              "    }\n",
              "</style>\n",
              "<table border=\"1\" class=\"dataframe\">\n",
              "  <thead>\n",
              "    <tr style=\"text-align: right;\">\n",
              "      <th></th>\n",
              "      <th>Y</th>\n",
              "    </tr>\n",
              "  </thead>\n",
              "  <tbody>\n",
              "    <tr>\n",
              "      <th>count</th>\n",
              "      <td>66.000000</td>\n",
              "    </tr>\n",
              "    <tr>\n",
              "      <th>mean</th>\n",
              "      <td>-0.256583</td>\n",
              "    </tr>\n",
              "    <tr>\n",
              "      <th>std</th>\n",
              "      <td>68.202192</td>\n",
              "    </tr>\n",
              "    <tr>\n",
              "      <th>min</th>\n",
              "      <td>-169.589483</td>\n",
              "    </tr>\n",
              "    <tr>\n",
              "      <th>25%</th>\n",
              "      <td>-48.813907</td>\n",
              "    </tr>\n",
              "    <tr>\n",
              "      <th>50%</th>\n",
              "      <td>2.753673</td>\n",
              "    </tr>\n",
              "    <tr>\n",
              "      <th>75%</th>\n",
              "      <td>47.929578</td>\n",
              "    </tr>\n",
              "    <tr>\n",
              "      <th>max</th>\n",
              "      <td>193.971047</td>\n",
              "    </tr>\n",
              "  </tbody>\n",
              "</table>\n",
              "</div>\n",
              "      <button class=\"colab-df-convert\" onclick=\"convertToInteractive('df-daefbcc7-82f0-48c5-aa76-2cc4f017decb')\"\n",
              "              title=\"Convert this dataframe to an interactive table.\"\n",
              "              style=\"display:none;\">\n",
              "        \n",
              "  <svg xmlns=\"http://www.w3.org/2000/svg\" height=\"24px\"viewBox=\"0 0 24 24\"\n",
              "       width=\"24px\">\n",
              "    <path d=\"M0 0h24v24H0V0z\" fill=\"none\"/>\n",
              "    <path d=\"M18.56 5.44l.94 2.06.94-2.06 2.06-.94-2.06-.94-.94-2.06-.94 2.06-2.06.94zm-11 1L8.5 8.5l.94-2.06 2.06-.94-2.06-.94L8.5 2.5l-.94 2.06-2.06.94zm10 10l.94 2.06.94-2.06 2.06-.94-2.06-.94-.94-2.06-.94 2.06-2.06.94z\"/><path d=\"M17.41 7.96l-1.37-1.37c-.4-.4-.92-.59-1.43-.59-.52 0-1.04.2-1.43.59L10.3 9.45l-7.72 7.72c-.78.78-.78 2.05 0 2.83L4 21.41c.39.39.9.59 1.41.59.51 0 1.02-.2 1.41-.59l7.78-7.78 2.81-2.81c.8-.78.8-2.07 0-2.86zM5.41 20L4 18.59l7.72-7.72 1.47 1.35L5.41 20z\"/>\n",
              "  </svg>\n",
              "      </button>\n",
              "      \n",
              "  <style>\n",
              "    .colab-df-container {\n",
              "      display:flex;\n",
              "      flex-wrap:wrap;\n",
              "      gap: 12px;\n",
              "    }\n",
              "\n",
              "    .colab-df-convert {\n",
              "      background-color: #E8F0FE;\n",
              "      border: none;\n",
              "      border-radius: 50%;\n",
              "      cursor: pointer;\n",
              "      display: none;\n",
              "      fill: #1967D2;\n",
              "      height: 32px;\n",
              "      padding: 0 0 0 0;\n",
              "      width: 32px;\n",
              "    }\n",
              "\n",
              "    .colab-df-convert:hover {\n",
              "      background-color: #E2EBFA;\n",
              "      box-shadow: 0px 1px 2px rgba(60, 64, 67, 0.3), 0px 1px 3px 1px rgba(60, 64, 67, 0.15);\n",
              "      fill: #174EA6;\n",
              "    }\n",
              "\n",
              "    [theme=dark] .colab-df-convert {\n",
              "      background-color: #3B4455;\n",
              "      fill: #D2E3FC;\n",
              "    }\n",
              "\n",
              "    [theme=dark] .colab-df-convert:hover {\n",
              "      background-color: #434B5C;\n",
              "      box-shadow: 0px 1px 3px 1px rgba(0, 0, 0, 0.15);\n",
              "      filter: drop-shadow(0px 1px 2px rgba(0, 0, 0, 0.3));\n",
              "      fill: #FFFFFF;\n",
              "    }\n",
              "  </style>\n",
              "\n",
              "      <script>\n",
              "        const buttonEl =\n",
              "          document.querySelector('#df-daefbcc7-82f0-48c5-aa76-2cc4f017decb button.colab-df-convert');\n",
              "        buttonEl.style.display =\n",
              "          google.colab.kernel.accessAllowed ? 'block' : 'none';\n",
              "\n",
              "        async function convertToInteractive(key) {\n",
              "          const element = document.querySelector('#df-daefbcc7-82f0-48c5-aa76-2cc4f017decb');\n",
              "          const dataTable =\n",
              "            await google.colab.kernel.invokeFunction('convertToInteractive',\n",
              "                                                     [key], {});\n",
              "          if (!dataTable) return;\n",
              "\n",
              "          const docLinkHtml = 'Like what you see? Visit the ' +\n",
              "            '<a target=\"_blank\" href=https://colab.research.google.com/notebooks/data_table.ipynb>data table notebook</a>'\n",
              "            + ' to learn more about interactive tables.';\n",
              "          element.innerHTML = '';\n",
              "          dataTable['output_type'] = 'display_data';\n",
              "          await google.colab.output.renderOutput(dataTable, element);\n",
              "          const docLink = document.createElement('div');\n",
              "          docLink.innerHTML = docLinkHtml;\n",
              "          element.appendChild(docLink);\n",
              "        }\n",
              "      </script>\n",
              "    </div>\n",
              "  </div>\n",
              "  "
            ]
          },
          "metadata": {},
          "execution_count": 56
        }
      ]
    },
    {
      "cell_type": "markdown",
      "source": [
        "Разделите все наблюдения на обучающую и тестовую выборки в соотношении 80-20."
      ],
      "metadata": {
        "id": "rutGD70dLUZw"
      }
    },
    {
      "cell_type": "code",
      "source": [
        "from sklearn.model_selection import train_test_split\n",
        "x_train, x_test, y_train, y_test = train_test_split(x_, y_, test_size=0.2, random_state=0)"
      ],
      "metadata": {
        "id": "avHofMzPLU8o"
      },
      "execution_count": 57,
      "outputs": []
    },
    {
      "cell_type": "markdown",
      "source": [
        "Для целевой и каждого из признаков постройте парную регрессионную модель. Визуализируйте линию регрессии и исходные данные на графике. При помощи коэффициентов оцените силу связи."
      ],
      "metadata": {
        "id": "RkaNW8IVLtre"
      }
    },
    {
      "cell_type": "code",
      "source": [
        "from sklearn.linear_model import LinearRegression"
      ],
      "metadata": {
        "id": "-ABlQGiyLwcm"
      },
      "execution_count": 58,
      "outputs": []
    },
    {
      "cell_type": "code",
      "source": [
        "def r_2_score(column_name : str) -> None:\n",
        "    y = LinearRegression().fit(x_train[[column_name]].values, y_train.values)\n",
        "    y_res = y.predict(x_test[[column_name]].values)\n",
        "    plt.scatter(x_test[[column_name]].values, y_test.values, color='pink')\n",
        "    plt.plot(x_test[[column_name]].values, y_res, color='violet', linewidth=2)\n",
        "    r_2 = y.score(x_test[[column_name]].values,  y_test.values)\n",
        "    print(f\"R^2 score: {r_2}\")\n",
        " "
      ],
      "metadata": {
        "id": "S7K-wv22L5lH"
      },
      "execution_count": 59,
      "outputs": []
    },
    {
      "cell_type": "markdown",
      "source": [
        "1 Фактор.\n",
        "Связи практически нет"
      ],
      "metadata": {
        "id": "OCcUffQBtopk"
      }
    },
    {
      "cell_type": "code",
      "source": [
        "r_2_score(\"x1\")"
      ],
      "metadata": {
        "colab": {
          "base_uri": "https://localhost:8080/",
          "height": 285
        },
        "id": "dT3zPDuEMWyW",
        "outputId": "f7853e13-3d98-433a-ebc8-fbd1abfc151d"
      },
      "execution_count": 60,
      "outputs": [
        {
          "output_type": "stream",
          "name": "stdout",
          "text": [
            "R^2 score: 0.05267313872215629\n"
          ]
        },
        {
          "output_type": "display_data",
          "data": {
            "text/plain": [
              "<Figure size 432x288 with 1 Axes>"
            ],
            "image/png": "[encoded data removed]"
          },
          "metadata": {
            "needs_background": "light"
          }
        }
      ]
    },
    {
      "cell_type": "markdown",
      "source": [
        "2 Фактор.\n",
        "Связь есть. Средняя, R = 0.0"
      ],
      "metadata": {
        "id": "xol27Desu7c5"
      }
    },
    {
      "cell_type": "code",
      "source": [
        "r_2_score(\"x2\")"
      ],
      "metadata": {
        "colab": {
          "base_uri": "https://localhost:8080/",
          "height": 285
        },
        "id": "mKyjuYynu-Th",
        "outputId": "461b24eb-8fe6-4b85-a200-1e69a2150cec"
      },
      "execution_count": 61,
      "outputs": [
        {
          "output_type": "stream",
          "name": "stdout",
          "text": [
            "R^2 score: 0.9858799456831545\n"
          ]
        },
        {
          "output_type": "display_data",
          "data": {
            "text/plain": [
              "<Figure size 432x288 with 1 Axes>"
            ],
            "image/png": "[encoded data removed]"
          },
          "metadata": {
            "needs_background": "light"
          }
        }
      ]
    },
    {
      "cell_type": "markdown",
      "source": [
        "3 Фактор. Связи нет"
      ],
      "metadata": {
        "id": "pxwoE3x-vEDY"
      }
    },
    {
      "cell_type": "code",
      "source": [
        "r_2_score(\"x3\")"
      ],
      "metadata": {
        "colab": {
          "base_uri": "https://localhost:8080/",
          "height": 285
        },
        "id": "FgL_cXZKvGJw",
        "outputId": "1ca6af60-955f-4abd-a115-7530fb815278"
      },
      "execution_count": 62,
      "outputs": [
        {
          "output_type": "stream",
          "name": "stdout",
          "text": [
            "R^2 score: -0.07925926745464884\n"
          ]
        },
        {
          "output_type": "display_data",
          "data": {
            "text/plain": [
              "<Figure size 432x288 with 1 Axes>"
            ],
            "image/png": "[encoded data removed]"
          },
          "metadata": {
            "needs_background": "light"
          }
        }
      ]
    },
    {
      "cell_type": "markdown",
      "source": [
        "4 Фактор. Связи практически нет"
      ],
      "metadata": {
        "id": "oZVmZ0UOvWLA"
      }
    },
    {
      "cell_type": "code",
      "source": [
        "r_2_score(\"x4\")"
      ],
      "metadata": {
        "colab": {
          "base_uri": "https://localhost:8080/",
          "height": 285
        },
        "id": "zQ8QnZT_vYO_",
        "outputId": "efc0fa38-df9e-47eb-bc39-5f295a5feed4"
      },
      "execution_count": 63,
      "outputs": [
        {
          "output_type": "stream",
          "name": "stdout",
          "text": [
            "R^2 score: -0.22752358641277226\n"
          ]
        },
        {
          "output_type": "display_data",
          "data": {
            "text/plain": [
              "<Figure size 432x288 with 1 Axes>"
            ],
            "image/png": "[encoded data removed]"
          },
          "metadata": {
            "needs_background": "light"
          }
        }
      ]
    },
    {
      "cell_type": "markdown",
      "source": [
        "Фактор 5. Связи практически нет"
      ],
      "metadata": {
        "id": "pw6rBnDWv9R-"
      }
    },
    {
      "cell_type": "code",
      "source": [
        "r_2_score(\"x5\")\n"
      ],
      "metadata": {
        "colab": {
          "base_uri": "https://localhost:8080/",
          "height": 285
        },
        "id": "SAAoA9ETwC-O",
        "outputId": "62df2dfb-80da-4a8e-9584-0135d10643e7"
      },
      "execution_count": 64,
      "outputs": [
        {
          "output_type": "stream",
          "name": "stdout",
          "text": [
            "R^2 score: -0.031939312712320866\n"
          ]
        },
        {
          "output_type": "display_data",
          "data": {
            "text/plain": [
              "<Figure size 432x288 with 1 Axes>"
            ],
            "image/png": "[encoded data removed]"
          },
          "metadata": {
            "needs_background": "light"
          }
        }
      ]
    },
    {
      "cell_type": "markdown",
      "source": [
        "Вывод: существенная связь есть по фактору x2 (R^2 = 0.0) "
      ],
      "metadata": {
        "id": "aTibAq3cxE9b"
      }
    },
    {
      "cell_type": "markdown",
      "source": [
        "Постройте модель множественной линейной регрессии целевой переменной от всех показателей. Оцените качество регрессии, сделайте вывод."
      ],
      "metadata": {
        "id": "cR-3x_nkxdoT"
      }
    },
    {
      "cell_type": "code",
      "source": [
        "import statsmodels.formula.api as sm\n",
        "\n",
        "data = pd.DataFrame(np.array(x_train[['x1', 'x2', 'x3', 'x4', 'x5']]), \n",
        "                            columns=['x1', 'x2', 'x3', 'x4', 'x5'])\n",
        "data['y'] = np.array(y_train)\n",
        "cols = data.columns.tolist()\n",
        "cols = cols[-1:] + cols[:-1]\n",
        "data = data[cols]\n",
        "\n",
        "#метод наименьших квадратов\n",
        "model = sm.ols(formula='y~x1+x2+x3+x4+x5', data=data)\n",
        "fitted = model.fit()\n",
        "fitted.summary()"
      ],
      "metadata": {
        "colab": {
          "base_uri": "https://localhost:8080/",
          "height": 516
        },
        "id": "tuDFF69wxi36",
        "outputId": "b66c0872-acc9-4fd1-bca9-048b6b29ee7e"
      },
      "execution_count": 66,
      "outputs": [
        {
          "output_type": "execute_result",
          "data": {
            "text/plain": [
              "<class 'statsmodels.iolib.summary.Summary'>\n",
              "\"\"\"\n",
              "                            OLS Regression Results                            \n",
              "==============================================================================\n",
              "Dep. Variable:                      y   R-squared:                       0.982\n",
              "Model:                            OLS   Adj. R-squared:                  0.980\n",
              "Method:                 Least Squares   F-statistic:                     507.5\n",
              "Date:                Thu, 13 Oct 2022   Prob (F-statistic):           5.07e-39\n",
              "Time:                        19:16:42   Log-Likelihood:                -187.99\n",
              "No. Observations:                  52   AIC:                             388.0\n",
              "Df Residuals:                      46   BIC:                             399.7\n",
              "Df Model:                           5                                         \n",
              "Covariance Type:            nonrobust                                         \n",
              "==============================================================================\n",
              "                 coef    std err          t      P>|t|      [0.025      0.975]\n",
              "------------------------------------------------------------------------------\n",
              "Intercept     -1.4825      1.377     -1.077      0.287      -4.254       1.289\n",
              "x1             0.8579      1.294      0.663      0.511      -1.746       3.462\n",
              "x2            70.2407      1.417     49.559      0.000      67.388      73.094\n",
              "x3             0.6913      1.526      0.453      0.653      -2.381       3.763\n",
              "x4            -0.3017      1.135     -0.266      0.792      -2.587       1.984\n",
              "x5             7.6635      1.254      6.114      0.000       5.140      10.187\n",
              "==============================================================================\n",
              "Omnibus:                        1.650   Durbin-Watson:                   1.796\n",
              "Prob(Omnibus):                  0.438   Jarque-Bera (JB):                0.871\n",
              "Skew:                          -0.049   Prob(JB):                        0.647\n",
              "Kurtosis:                       3.626   Cond. No.                         1.63\n",
              "==============================================================================\n",
              "\n",
              "Notes:\n",
              "[1] Standard Errors assume that the covariance matrix of the errors is correctly specified.\n",
              "\"\"\""
            ],
            "text/html": [
              "<table class=\"simpletable\">\n",
              "<caption>OLS Regression Results</caption>\n",
              "<tr>\n",
              "  <th>Dep. Variable:</th>            <td>y</td>        <th>  R-squared:         </th> <td>   0.982</td>\n",
              "</tr>\n",
              "<tr>\n",
              "  <th>Model:</th>                   <td>OLS</td>       <th>  Adj. R-squared:    </th> <td>   0.980</td>\n",
              "</tr>\n",
              "<tr>\n",
              "  <th>Method:</th>             <td>Least Squares</td>  <th>  F-statistic:       </th> <td>   507.5</td>\n",
              "</tr>\n",
              "<tr>\n",
              "  <th>Date:</th>             <td>Thu, 13 Oct 2022</td> <th>  Prob (F-statistic):</th> <td>5.07e-39</td>\n",
              "</tr>\n",
              "<tr>\n",
              "  <th>Time:</th>                 <td>19:16:42</td>     <th>  Log-Likelihood:    </th> <td> -187.99</td>\n",
              "</tr>\n",
              "<tr>\n",
              "  <th>No. Observations:</th>      <td>    52</td>      <th>  AIC:               </th> <td>   388.0</td>\n",
              "</tr>\n",
              "<tr>\n",
              "  <th>Df Residuals:</th>          <td>    46</td>      <th>  BIC:               </th> <td>   399.7</td>\n",
              "</tr>\n",
              "<tr>\n",
              "  <th>Df Model:</th>              <td>     5</td>      <th>                     </th>     <td> </td>   \n",
              "</tr>\n",
              "<tr>\n",
              "  <th>Covariance Type:</th>      <td>nonrobust</td>    <th>                     </th>     <td> </td>   \n",
              "</tr>\n",
              "</table>\n",
              "<table class=\"simpletable\">\n",
              "<tr>\n",
              "      <td></td>         <th>coef</th>     <th>std err</th>      <th>t</th>      <th>P>|t|</th>  <th>[0.025</th>    <th>0.975]</th>  \n",
              "</tr>\n",
              "<tr>\n",
              "  <th>Intercept</th> <td>   -1.4825</td> <td>    1.377</td> <td>   -1.077</td> <td> 0.287</td> <td>   -4.254</td> <td>    1.289</td>\n",
              "</tr>\n",
              "<tr>\n",
              "  <th>x1</th>        <td>    0.8579</td> <td>    1.294</td> <td>    0.663</td> <td> 0.511</td> <td>   -1.746</td> <td>    3.462</td>\n",
              "</tr>\n",
              "<tr>\n",
              "  <th>x2</th>        <td>   70.2407</td> <td>    1.417</td> <td>   49.559</td> <td> 0.000</td> <td>   67.388</td> <td>   73.094</td>\n",
              "</tr>\n",
              "<tr>\n",
              "  <th>x3</th>        <td>    0.6913</td> <td>    1.526</td> <td>    0.453</td> <td> 0.653</td> <td>   -2.381</td> <td>    3.763</td>\n",
              "</tr>\n",
              "<tr>\n",
              "  <th>x4</th>        <td>   -0.3017</td> <td>    1.135</td> <td>   -0.266</td> <td> 0.792</td> <td>   -2.587</td> <td>    1.984</td>\n",
              "</tr>\n",
              "<tr>\n",
              "  <th>x5</th>        <td>    7.6635</td> <td>    1.254</td> <td>    6.114</td> <td> 0.000</td> <td>    5.140</td> <td>   10.187</td>\n",
              "</tr>\n",
              "</table>\n",
              "<table class=\"simpletable\">\n",
              "<tr>\n",
              "  <th>Omnibus:</th>       <td> 1.650</td> <th>  Durbin-Watson:     </th> <td>   1.796</td>\n",
              "</tr>\n",
              "<tr>\n",
              "  <th>Prob(Omnibus):</th> <td> 0.438</td> <th>  Jarque-Bera (JB):  </th> <td>   0.871</td>\n",
              "</tr>\n",
              "<tr>\n",
              "  <th>Skew:</th>          <td>-0.049</td> <th>  Prob(JB):          </th> <td>   0.647</td>\n",
              "</tr>\n",
              "<tr>\n",
              "  <th>Kurtosis:</th>      <td> 3.626</td> <th>  Cond. No.          </th> <td>    1.63</td>\n",
              "</tr>\n",
              "</table><br/><br/>Notes:<br/>[1] Standard Errors assume that the covariance matrix of the errors is correctly specified."
            ]
          },
          "metadata": {},
          "execution_count": 66
        }
      ]
    },
    {
      "cell_type": "markdown",
      "source": [
        "Вывод:\n",
        "\n",
        "Если учитывать все факторы, то общий показатель модели по R^2 = 0.982, что является очень хорошей связью и тем, что модель жизнеспособна\n",
        "\n",
        "Наиболее влияющие факторы - это x2 и x5 с коэффицентами 70.2407 и \t7.6635 соответственно. \n",
        "\n",
        "По DW мы можем видеть:\n",
        "Автокорреляция отсутствует т.к. (1.5 < DW = 1.796 < 2)\n",
        "Гомоскедастичность присутствует (1 < DW=1.796 < 2)\n",
        "\n",
        "По Prob (F-statistic) = 5.07e-39 = 0 видим, что регрессия значима\n",
        "\n",
        "Делая общий вывод, можем сказать, что полученная обобщенная модель по всем факторам имеет право на жизнь и с ней можно работать\n",
        "\n",
        " "
      ],
      "metadata": {
        "id": "qORfcSimyBqh"
      }
    }
  ]
}