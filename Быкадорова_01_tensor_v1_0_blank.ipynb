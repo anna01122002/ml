{
  "cells": [
    {
      "cell_type": "markdown",
      "metadata": {
        "id": "view-in-github",
        "colab_type": "text"
      },
      "source": [
        "<a href=\"https://colab.research.google.com/github/anna01122002/ml/blob/main/%D0%91%D1%8B%D0%BA%D0%B0%D0%B4%D0%BE%D1%80%D0%BE%D0%B2%D0%B0_01_tensor_v1_0_blank.ipynb\" target=\"_parent\"><img src=\"https://colab.research.google.com/assets/colab-badge.svg\" alt=\"Open In Colab\"/></a>"
      ]
    },
    {
      "cell_type": "markdown",
      "metadata": {
        "id": "_gE94V3G1RCx"
      },
      "source": [
        "# 01. Знакомство с `torch.Tensor`\n",
        "\n",
        "V 0.1 04.02.2021"
      ]
    },
    {
      "cell_type": "markdown",
      "metadata": {
        "id": "TlWOXn0f1RC7"
      },
      "source": [
        "---"
      ]
    },
    {
      "cell_type": "markdown",
      "metadata": {
        "id": "lZfJ1FRM1RC8"
      },
      "source": [
        "При решении данных задач не подразумевается использования циклов или генераторов Python, если в задании не сказано обратного. Решение должно опираться на использование функционала библиотеки `torch`.\n",
        "\n",
        "[PyTorch documentation](https://pytorch.org/docs/stable/#pytorch-documentation)"
      ]
    },
    {
      "cell_type": "code",
      "execution_count": 1,
      "metadata": {
        "id": "b3AW8rF-1RC9"
      },
      "outputs": [],
      "source": [
        "import torch"
      ]
    },
    {
      "cell_type": "markdown",
      "metadata": {
        "id": "vow49PuE1RC9"
      },
      "source": [
        "## 1.1 Создание тензоров и выполнение базовых операций над ними\n",
        "\n",
        "[Документация по функциям для создания тензоров](https://pytorch.org/docs/stable/torch.html#creation-ops)\n",
        "\n",
        "[Документация по функциям для работы с индексами](https://pytorch.org/docs/stable/torch.html#indexing-slicing-joining-mutating-ops)"
      ]
    },
    {
      "cell_type": "markdown",
      "metadata": {
        "id": "wBIwO1SB1RC-"
      },
      "source": [
        "1.1.1 Создайте двумерный тензор размера (8, 8). Используя как можно меньше операций, добейтесь расстановки кодов \"шахматных фигур\".\n",
        "\n",
        "Ожидаемый результат:\n",
        "\n",
        "```\n",
        "[[-4., -3., -2., -6., -5., -2., -3., -4.],\n",
        " [-1., -1., -1., -1., -1., -1., -1., -1.],\n",
        " [0., 0., 0., 0., 0., 0., 0., 0.],\n",
        " [0., 0., 0., 0., 0., 0., 0., 0.],\n",
        " [0., 0., 0., 0., 0., 0., 0., 0.],\n",
        " [0., 0., 0., 0., 0., 0., 0., 0.],\n",
        " [1., 1., 1., 1., 1., 1., 1., 1.],\n",
        " [4., 3., 2., 6., 5., 2., 3., 4.]]\n",
        "\n",
        "```"
      ]
    },
    {
      "cell_type": "code",
      "source": [
        "a = torch.zeros(8, 8)\n",
        "a[0] = torch.tensor([-4., -3., -2., -6., -5., -2., -3., -4.])\n",
        "a[1, :] = -1\n",
        "a[6, :] = -a[1]\n",
        "a[7, :] = -a[0]\n",
        "a"
      ],
      "metadata": {
        "colab": {
          "base_uri": "https://localhost:8080/"
        },
        "id": "3eyiCUnKgiam",
        "outputId": "8b15934a-9e9a-4e24-aaae-1edc5dc17cff"
      },
      "execution_count": 2,
      "outputs": [
        {
          "output_type": "execute_result",
          "data": {
            "text/plain": [
              "tensor([[-4., -3., -2., -6., -5., -2., -3., -4.],\n",
              "        [-1., -1., -1., -1., -1., -1., -1., -1.],\n",
              "        [ 0.,  0.,  0.,  0.,  0.,  0.,  0.,  0.],\n",
              "        [ 0.,  0.,  0.,  0.,  0.,  0.,  0.,  0.],\n",
              "        [ 0.,  0.,  0.,  0.,  0.,  0.,  0.,  0.],\n",
              "        [ 0.,  0.,  0.,  0.,  0.,  0.,  0.,  0.],\n",
              "        [ 1.,  1.,  1.,  1.,  1.,  1.,  1.,  1.],\n",
              "        [ 4.,  3.,  2.,  6.,  5.,  2.,  3.,  4.]])"
            ]
          },
          "metadata": {},
          "execution_count": 2
        }
      ]
    },
    {
      "cell_type": "markdown",
      "metadata": {
        "id": "20x5RE1V1RC_"
      },
      "source": [
        "1.1.2 Средствами `torch` рассчитать произведения четных чисел от 2 до 20 на ближайшие к ним бОльшие нечетные числа."
      ]
    },
    {
      "cell_type": "code",
      "source": [
        "a = torch.arange(2, 21, 2)\n",
        "print(a)\n",
        "res1 = a * (a + 1)\n",
        "res1"
      ],
      "metadata": {
        "colab": {
          "base_uri": "https://localhost:8080/"
        },
        "id": "7tzfme5ig5V1",
        "outputId": "92c28f19-2516-4e82-e7a7-f3f7b1e82df3"
      },
      "execution_count": 4,
      "outputs": [
        {
          "output_type": "stream",
          "name": "stdout",
          "text": [
            "tensor([ 2,  4,  6,  8, 10, 12, 14, 16, 18, 20])\n"
          ]
        },
        {
          "output_type": "execute_result",
          "data": {
            "text/plain": [
              "tensor([  6,  20,  42,  72, 110, 156, 210, 272, 342, 420])"
            ]
          },
          "metadata": {},
          "execution_count": 4
        }
      ]
    },
    {
      "cell_type": "markdown",
      "metadata": {
        "id": "N_-t5GRM1RC_"
      },
      "source": [
        "1.1.3 Создать тензор размера 11x7 вида: [[1, 2, 3, ..., 7], [11, 12, 13, ..., 17], [21, 22, 23, ..., 27], ..., [101, 102, 103, ..., 107]]"
      ]
    },
    {
      "cell_type": "code",
      "source": [
        "a = torch.arange(1,8)\n",
        "b = torch.arange(0, 101, 10).reshape(11,1)\n",
        "res2 = a + b\n",
        "res2"
      ],
      "metadata": {
        "colab": {
          "base_uri": "https://localhost:8080/"
        },
        "id": "OvEw8rughAt2",
        "outputId": "0bccdb2e-19d1-4fdc-9c3c-7ff0d6045830"
      },
      "execution_count": 5,
      "outputs": [
        {
          "output_type": "execute_result",
          "data": {
            "text/plain": [
              "tensor([[  1,   2,   3,   4,   5,   6,   7],\n",
              "        [ 11,  12,  13,  14,  15,  16,  17],\n",
              "        [ 21,  22,  23,  24,  25,  26,  27],\n",
              "        [ 31,  32,  33,  34,  35,  36,  37],\n",
              "        [ 41,  42,  43,  44,  45,  46,  47],\n",
              "        [ 51,  52,  53,  54,  55,  56,  57],\n",
              "        [ 61,  62,  63,  64,  65,  66,  67],\n",
              "        [ 71,  72,  73,  74,  75,  76,  77],\n",
              "        [ 81,  82,  83,  84,  85,  86,  87],\n",
              "        [ 91,  92,  93,  94,  95,  96,  97],\n",
              "        [101, 102, 103, 104, 105, 106, 107]])"
            ]
          },
          "metadata": {},
          "execution_count": 5
        }
      ]
    },
    {
      "cell_type": "markdown",
      "metadata": {
        "id": "oxVeUiHR1RC_"
      },
      "source": [
        "1.1.4 Написать функцию, которая для целых значений `n` и `m` будет возвращать тензор размера `n`x`m`, заполненный текстурой размера 2x2, состоящей из следующих значений:\n",
        "\n",
        "```\n",
        "0 1\n",
        "\n",
        "2 3\n",
        "\n",
        "```\n",
        "\n",
        "Пример для n = 4 и m = 5:\n",
        "\n",
        "```\n",
        "0 1 0 1 0\n",
        "\n",
        "2 3 2 3 2\n",
        "\n",
        "0 1 0 1 0\n",
        "\n",
        "2 3 2 3 2\n",
        "```"
      ]
    },
    {
      "cell_type": "code",
      "source": [
        "N = 4\n",
        "M = 5\n",
        "\n",
        "res = torch.zeros((N,M))\n",
        "res[torch.arange(1, M, 2)] += 2\n",
        "res[:, torch.arange(1, N, 2)] += 1\n",
        "res"
      ],
      "metadata": {
        "colab": {
          "base_uri": "https://localhost:8080/"
        },
        "id": "tbE4-lqQhHjH",
        "outputId": "1613a69d-b13d-49ea-e360-e1518c68602b"
      },
      "execution_count": 6,
      "outputs": [
        {
          "output_type": "execute_result",
          "data": {
            "text/plain": [
              "tensor([[0., 1., 0., 1., 0.],\n",
              "        [2., 3., 2., 3., 2.],\n",
              "        [0., 1., 0., 1., 0.],\n",
              "        [2., 3., 2., 3., 2.]])"
            ]
          },
          "metadata": {},
          "execution_count": 6
        }
      ]
    },
    {
      "cell_type": "markdown",
      "metadata": {
        "id": "WH9hxJse1RDA"
      },
      "source": [
        "1.1.5 Сгенерировать двумерный тензор `t` размерности (4, 7), состоящий из случайных действительных чисел, равномерно распределенных в дипазоне от 0 до 20. Нормализовать значения массива с помощью преобразования вида $ax+b$ так, что после нормализации максимальный элемент масива будет равен 1.0, минимальный 0.0"
      ]
    },
    {
      "cell_type": "markdown",
      "metadata": {
        "id": "vPqIeewXB-mM"
      },
      "source": [
        "[Random Sampling](https://pytorch.org/docs/stable/torch.html#random-sampling)\n",
        "\n",
        "[Distributions](https://pytorch.org/docs/stable/distributions.html)"
      ]
    },
    {
      "cell_type": "code",
      "source": [
        "#Рандомные значения\n",
        "buf = torch.rand((4, 7)) * 20\n",
        "#Max-min нормализация\n",
        "res = 1/(buf.max()-buf.min())*buf-buf.min()/(buf.max()-buf.min())\n",
        "res"
      ],
      "metadata": {
        "colab": {
          "base_uri": "https://localhost:8080/"
        },
        "id": "9HLOFZSOhLo3",
        "outputId": "9661d4e1-8feb-4137-ef8f-780db06fdce5"
      },
      "execution_count": 7,
      "outputs": [
        {
          "output_type": "execute_result",
          "data": {
            "text/plain": [
              "tensor([[0.4381, 0.4423, 0.4986, 0.1156, 0.8180, 0.5477, 0.3548],\n",
              "        [0.1318, 0.0152, 0.7940, 0.2805, 0.9905, 0.8231, 0.8070],\n",
              "        [0.6712, 1.0000, 0.8207, 0.8753, 0.6161, 0.6198, 0.4677],\n",
              "        [0.1268, 0.9827, 0.5159, 0.6880, 0.6254, 0.0000, 0.4614]])"
            ]
          },
          "metadata": {},
          "execution_count": 7
        }
      ]
    },
    {
      "cell_type": "markdown",
      "metadata": {
        "id": "K_R6cwq11RDE"
      },
      "source": [
        "1.1.6 Задать два двумерных тензора `ar1` и `ar2` размерности (4, 7), состоящих из случайных целых чисел в пределах от 0 до 10. Построить двумерный тензор размерности (4, 7), каждый элемент которого представляет собой максимум из двух значений, находящихся на аналогичной позиции в массивах `ar1`, `ar2`.\n",
        "\n",
        "[Reductions ops](https://pytorch.org/docs/stable/torch.html#reduction-ops)"
      ]
    },
    {
      "cell_type": "code",
      "source": [
        "#Тензор 1\n",
        "ar1 = torch.randint(0, 11, size=[4, 7])\n",
        "print(ar1)\n",
        "#Тензор 2\n",
        "ar2 = torch.randint(0, 11, size=[4, 7])\n",
        "print(ar2)\n",
        "\n",
        "res = torch.cat((ar1, ar2)).reshape((2, 4, 7)).max(axis=0).values\n",
        "res"
      ],
      "metadata": {
        "colab": {
          "base_uri": "https://localhost:8080/"
        },
        "id": "TDpBLeb1hP_q",
        "outputId": "cb7d819b-7e36-4ae3-a932-93b8919c1fbe"
      },
      "execution_count": 8,
      "outputs": [
        {
          "output_type": "stream",
          "name": "stdout",
          "text": [
            "tensor([[ 4,  2,  4,  9,  3,  2,  2],\n",
            "        [ 3, 10,  0, 10,  8,  8,  7],\n",
            "        [ 5,  9,  2,  9,  4,  5,  9],\n",
            "        [ 3,  5,  1,  2,  6,  3, 10]])\n",
            "tensor([[ 8,  4,  2,  9,  3,  6,  1],\n",
            "        [ 9,  0,  1,  1,  3,  8,  5],\n",
            "        [ 3,  4,  9,  2,  1, 10,  6],\n",
            "        [ 9,  8, 10,  0,  5,  1,  8]])\n"
          ]
        },
        {
          "output_type": "execute_result",
          "data": {
            "text/plain": [
              "tensor([[ 8,  4,  4,  9,  3,  6,  2],\n",
              "        [ 9, 10,  1, 10,  8,  8,  7],\n",
              "        [ 5,  9,  9,  9,  4, 10,  9],\n",
              "        [ 9,  8, 10,  2,  6,  3, 10]])"
            ]
          },
          "metadata": {},
          "execution_count": 8
        }
      ]
    },
    {
      "cell_type": "markdown",
      "metadata": {
        "id": "x6zmMhyKBPWQ"
      },
      "source": [
        "1.1.7 Создать тензор из 20 случайных целых чисел от 0 до 100. Получить второе сверху значение в тензоре. Определить индекс этого значения."
      ]
    },
    {
      "cell_type": "code",
      "source": [
        "arr = torch.randint(0, 101, size=[20])\n",
        "print(arr)\n",
        "print(arr.sort().values)\n",
        "print(arr.sort().values[-2])\n",
        "result = arr.sort().indices[-2]\n",
        "result"
      ],
      "metadata": {
        "colab": {
          "base_uri": "https://localhost:8080/"
        },
        "id": "by-fEcRdhUsC",
        "outputId": "913c88d3-607d-4498-ab5a-5cdb46a20045"
      },
      "execution_count": 9,
      "outputs": [
        {
          "output_type": "stream",
          "name": "stdout",
          "text": [
            "tensor([29, 21,  0, 20, 59, 71, 73, 94, 49, 17, 71, 49, 26, 81, 63, 66, 36, 70,\n",
            "        90, 54])\n",
            "tensor([ 0, 17, 20, 21, 26, 29, 36, 49, 49, 54, 59, 63, 66, 70, 71, 71, 73, 81,\n",
            "        90, 94])\n",
            "tensor(90)\n"
          ]
        },
        {
          "output_type": "execute_result",
          "data": {
            "text/plain": [
              "tensor(18)"
            ]
          },
          "metadata": {},
          "execution_count": 9
        }
      ]
    },
    {
      "cell_type": "markdown",
      "metadata": {
        "id": "Xshsy8fD1RDE"
      },
      "source": [
        "## 1.2 Распространение"
      ]
    },
    {
      "cell_type": "markdown",
      "metadata": {
        "id": "jlP22HAJCo28"
      },
      "source": [
        "[Numpy broadcasting](https://numpy.org/devdocs/user/theory.broadcasting.html)\n",
        "\n",
        "[Torch broadcasting](https://pytorch.org/docs/stable/notes/broadcasting.html)"
      ]
    },
    {
      "cell_type": "markdown",
      "metadata": {
        "id": "uRD6-8Gd1RDF"
      },
      "source": [
        "1.2.1 Создать тензор 11x7 вида: `[[1, 2, 3, ..., 7], [11, 12, 13, ..., 17], [21, 22, 23, ..., 27], ..., [101, 102, 103, ..., 107]]`. При решении задачи применить технику распространения."
      ]
    },
    {
      "cell_type": "code",
      "source": [
        "first_items = torch.arange(1, 8, step=1)\n",
        "print(first_items)\n",
        "second_items = torch.arange(0, 101, step=10).reshape(-1, 1) \n",
        "print(second_items)\n",
        "first_items + second_items"
      ],
      "metadata": {
        "colab": {
          "base_uri": "https://localhost:8080/"
        },
        "id": "8fNszfPZh7hH",
        "outputId": "42c475de-a372-4c3b-cc7f-352da462ea89"
      },
      "execution_count": 10,
      "outputs": [
        {
          "output_type": "stream",
          "name": "stdout",
          "text": [
            "tensor([1, 2, 3, 4, 5, 6, 7])\n",
            "tensor([[  0],\n",
            "        [ 10],\n",
            "        [ 20],\n",
            "        [ 30],\n",
            "        [ 40],\n",
            "        [ 50],\n",
            "        [ 60],\n",
            "        [ 70],\n",
            "        [ 80],\n",
            "        [ 90],\n",
            "        [100]])\n"
          ]
        },
        {
          "output_type": "execute_result",
          "data": {
            "text/plain": [
              "tensor([[  1,   2,   3,   4,   5,   6,   7],\n",
              "        [ 11,  12,  13,  14,  15,  16,  17],\n",
              "        [ 21,  22,  23,  24,  25,  26,  27],\n",
              "        [ 31,  32,  33,  34,  35,  36,  37],\n",
              "        [ 41,  42,  43,  44,  45,  46,  47],\n",
              "        [ 51,  52,  53,  54,  55,  56,  57],\n",
              "        [ 61,  62,  63,  64,  65,  66,  67],\n",
              "        [ 71,  72,  73,  74,  75,  76,  77],\n",
              "        [ 81,  82,  83,  84,  85,  86,  87],\n",
              "        [ 91,  92,  93,  94,  95,  96,  97],\n",
              "        [101, 102, 103, 104, 105, 106, 107]])"
            ]
          },
          "metadata": {},
          "execution_count": 10
        }
      ]
    },
    {
      "cell_type": "markdown",
      "metadata": {
        "id": "iSY9Iday1RDF"
      },
      "source": [
        "1.2.2 Вычесть одномерный тензор `b_1d` из двухмерного тензора `a_2d`, так, чтобы каждый элемент одномерного тензора вычитался из всех элементов соответствующих строк двумерного тензора.\n",
        "\n",
        "_Пример:_\n",
        "\n",
        "Для входа:\n",
        "```python\n",
        "a_2d = np.array([[3,3,3],[4,4,4],[5,5,5]])\n",
        "b_1d = np.array([1,2,3])\n",
        "```\n",
        "\n",
        "Ожидается резульат:\n",
        "\n",
        "```python\n",
        "[[2 2 2]\n",
        " [2 2 2]\n",
        " [2 2 2]]\n",
        "```"
      ]
    },
    {
      "cell_type": "code",
      "source": [
        "b_1d = torch.tensor([1,2,3])\n",
        "print(b_1d)\n",
        "a_2d = torch.tensor([[3,3,3],[4,4,4],[5,5,5]])\n",
        "print(a_2d)\n",
        "res = a_2d - b_1d.reshape(b_1d.size()[0], 1)\n",
        "res"
      ],
      "metadata": {
        "colab": {
          "base_uri": "https://localhost:8080/"
        },
        "id": "ViFtxSdxiQzG",
        "outputId": "3d1816ed-64ef-4831-e3d1-15718003ccc7"
      },
      "execution_count": 11,
      "outputs": [
        {
          "output_type": "stream",
          "name": "stdout",
          "text": [
            "tensor([1, 2, 3])\n",
            "tensor([[3, 3, 3],\n",
            "        [4, 4, 4],\n",
            "        [5, 5, 5]])\n"
          ]
        },
        {
          "output_type": "execute_result",
          "data": {
            "text/plain": [
              "tensor([[2, 2, 2],\n",
              "        [2, 2, 2],\n",
              "        [2, 2, 2]])"
            ]
          },
          "metadata": {},
          "execution_count": 11
        }
      ]
    },
    {
      "cell_type": "markdown",
      "metadata": {
        "id": "dFTvPsY91RDF"
      },
      "source": [
        "## 1.3 Индексы, маскирование и прихотливое индексирование\n",
        "\n",
        "[Документация по функциям для работы с индексами](https://pytorch.org/docs/stable/torch.html#indexing-slicing-joining-mutating-ops)"
      ]
    },
    {
      "cell_type": "markdown",
      "metadata": {
        "id": "McYtDYhH1RDG"
      },
      "source": [
        "1.3.1 Получить индексы, для которых элементы тензоров `a` и `b` совпадают.\n",
        "\n",
        "_Пример:_\n",
        "\n",
        "Для входа:\n",
        "```python\n",
        "a = np.array([1,2,3,2,3,4,3,4,5,6])\n",
        "b = np.array([7,2,10,2,7,4,9,4,9,8])\n",
        "```\n",
        "\n",
        "Ожидается резульат:\n",
        "\n",
        "```python\n",
        "array([1, 3, 5, 7])\n",
        "```"
      ]
    },
    {
      "cell_type": "code",
      "source": [
        "a = torch.tensor([1,2,3,2,3,4,3,4,5,6])\n",
        "b = torch.tensor([7,2,10,2,7,4,9,4,9,8])\n",
        "\n",
        "res = (a == b).nonzero(as_tuple=True)\n",
        "res[0].numpy()"
      ],
      "metadata": {
        "id": "EyrdhSYxiXU0"
      },
      "execution_count": null,
      "outputs": []
    },
    {
      "cell_type": "markdown",
      "metadata": {
        "id": "MnBq3nfy1RDG"
      },
      "source": [
        "1.3.2 Инвертировать порядок элементов в двумерном тензоре `torch.arange(9).view(3,3)`.\n",
        "\n",
        "Ожидаемый результат:\n",
        "\n",
        "\n",
        "```python\n",
        "array([[8, 7, 6],\n",
        "       [5, 4, 3],\n",
        "       [2, 1, 0]])\n",
        "```"
      ]
    },
    {
      "cell_type": "code",
      "source": [
        "arr = torch.arange(9).view(3,3)\n",
        "arr = arr.flip(1).flip(0).numpy()\n",
        "arr"
      ],
      "metadata": {
        "colab": {
          "base_uri": "https://localhost:8080/"
        },
        "id": "4LQ9GMB7ibfI",
        "outputId": "88362172-3b51-48ec-b0cb-d96dffbe6d55"
      },
      "execution_count": 12,
      "outputs": [
        {
          "output_type": "execute_result",
          "data": {
            "text/plain": [
              "array([[8, 7, 6],\n",
              "       [5, 4, 3],\n",
              "       [2, 1, 0]])"
            ]
          },
          "metadata": {},
          "execution_count": 12
        }
      ]
    },
    {
      "cell_type": "markdown",
      "metadata": {
        "id": "tANsLnOC1RDH"
      },
      "source": [
        "1.3.3 Из входного тензора a получить только элементы, находящиеся в диапазоне от 5 до 10.\n",
        "\n",
        "_Пример:_\n",
        "\n",
        "Для входа:\n",
        "```python\n",
        "a = np.array([2, 6, 1, 9, 10, 3, 27])\n",
        "```\n",
        "\n",
        "Ожидается резульат:\n",
        "\n",
        "```python\n",
        "array([6, 9, 10])\n",
        "```"
      ]
    },
    {
      "cell_type": "code",
      "source": [
        "a = torch.tensor([2, 6, 1, 9, 10, 3, 27])\n",
        "mask = (a >= 5) & (a <= 10)\n",
        "res = a[mask].numpy()\n",
        "res"
      ],
      "metadata": {
        "id": "nsZyIlykier6"
      },
      "execution_count": null,
      "outputs": []
    },
    {
      "cell_type": "markdown",
      "metadata": {
        "id": "3vlK0gV21RDH"
      },
      "source": [
        "1.3.4 Поменять местами столбец 1 и 2 тензора `np.arange(9).reshape(3,3)`"
      ]
    },
    {
      "cell_type": "code",
      "source": [
        "res = torch.arange(9).reshape(3,3)\n",
        "print(res)\n",
        "res = res[:, [0, 2, 1]]\n",
        "res"
      ],
      "metadata": {
        "id": "8ISMOAe-ihHf"
      },
      "execution_count": null,
      "outputs": []
    },
    {
      "cell_type": "markdown",
      "metadata": {
        "id": "cheFtWhU1RDH"
      },
      "source": [
        "1.3.5 Создать тензор 8 на 10 из случайных целых чисел из диапазона от 0 до 10 и найти в ней строку (ее индекс и вывести саму строку), в которой сумма значений минимальна."
      ]
    },
    {
      "cell_type": "code",
      "source": [
        "arr = torch.randint(0, 11, size=[8, 10])\n",
        "print(arr)\n",
        "item_index = arr.sum(axis=1).min(axis=0).indices.item()\n",
        "print(item_index)\n",
        "res = arr[item_index]\n",
        "res"
      ],
      "metadata": {
        "id": "3d9yj1j-ijUo"
      },
      "execution_count": null,
      "outputs": []
    },
    {
      "cell_type": "markdown",
      "metadata": {
        "id": "grOCNU4XFE2B"
      },
      "source": [
        "1.3.6 Cоздать тензор из 20 случайных целых чисел от 0 до 100. Обрезать значения тензора (заменить значения, выходящие за диапазон, на крайние значения) снизу по значению 30, сверху по значению 70."
      ]
    },
    {
      "cell_type": "code",
      "source": [
        "res = torch.randint(0, 101, size=[20])\n",
        "print(res)\n",
        "res[(res < 30)] = 30\n",
        "print(res)\n",
        "res[(res > 70)] = 70\n",
        "res"
      ],
      "metadata": {
        "id": "57cAkiPbilzO"
      },
      "execution_count": null,
      "outputs": []
    },
    {
      "cell_type": "markdown",
      "metadata": {
        "id": "HNfQjY8P1RDI"
      },
      "source": [
        "1.3.7 Создать два тензора размера 30 на 3 из случайных целых чисел из диапазона от 0 до 10 и найти все значения первого тензора, которые больше соответсвующих (по расположению) значений второго тензора. Подсчитать сумму этих значений."
      ]
    },
    {
      "cell_type": "code",
      "source": [
        "a1 = torch.randint(0, 11, size=[30, 3])\n",
        "a2 = torch.randint(0, 11, size=[30, 3])\n",
        "\n",
        "mask = a1 > a2\n",
        "print(a1[mask])\n",
        "\n",
        "res = a1[mask].sum().item()\n",
        "print(\"Sum:\", res)"
      ],
      "metadata": {
        "id": "42cKgl6IizT0"
      },
      "execution_count": null,
      "outputs": []
    },
    {
      "cell_type": "markdown",
      "metadata": {
        "id": "doBCxYJA1RDI"
      },
      "source": [
        "1.3.8 При помощи прихотливого индексирования для двухмерного массива размерности (20, 20), состоящего из случайных целых чисел в пределах от 0 до 10 получить массив элементов находящихся на диагонали, проходящей над основной диагональю."
      ]
    },
    {
      "cell_type": "code",
      "source": [
        "res = torch.randint(0, 11, size=[20, 20])\n",
        "print(res)\n",
        "print(res[torch.arange(19), torch.arange(19) +1])"
      ],
      "metadata": {
        "id": "Wit4rhspi1TF"
      },
      "execution_count": null,
      "outputs": []
    },
    {
      "cell_type": "markdown",
      "metadata": {
        "id": "6M1lkfLp1RDJ"
      },
      "source": [
        "1.3.9 Задать два двухмерных тензора `ar1` и `ar2` размерности (5, 10), состоящих из случайных целых чисел в пределах от 0 до 10. Удвоить все значения `ar1`, которые совпадают со значениями `ar2`, расположенными на аналогичных позициях."
      ]
    },
    {
      "cell_type": "code",
      "source": [
        "a1 = torch.randint(0, 11, size=[5, 10])\n",
        "print(a1,\"\\n\")\n",
        "a2 = torch.randint(0, 11, size=[5, 10])\n",
        "print(a2, \"\\n\")\n",
        "\n",
        "mask = a1 == a2\n",
        "a1[mask] = a1[mask] * 2\n",
        "a1"
      ],
      "metadata": {
        "id": "xhp2Cu4ii3Rp"
      },
      "execution_count": null,
      "outputs": []
    },
    {
      "cell_type": "markdown",
      "metadata": {
        "id": "Qe2oVr4p1RDJ"
      },
      "source": [
        "1.3.10 Заданы три двухмерных тензора `ar1`, `ar2` и `ar3` размерности (4, 7), состоящие из случайных целых чисел в пределах от 0 до 10. Обнулить все элементы `ar1`, которые больше соответствующих (находящихся в соответствующих позициях) элементов `ar2` и меньше соответствующих элементов `ar3`."
      ]
    },
    {
      "cell_type": "code",
      "source": [
        "a1 = torch.randint(0, 11, size=[4, 7])\n",
        "print(a1, \"\\n\")\n",
        "a2 = torch.randint(0, 11, size=[4, 7])\n",
        "print(a2, \"\\n\")\n",
        "a3 = torch.randint(0, 11, size=[4, 7])\n",
        "print(a3, \"\\n\")\n",
        "\n",
        "mask = (a1 > a2) & (a1 < a3)\n",
        "a1[mask] = 0\n",
        "a1"
      ],
      "metadata": {
        "id": "IcCGLAV4i8H_"
      },
      "execution_count": null,
      "outputs": []
    },
    {
      "cell_type": "markdown",
      "metadata": {
        "id": "BTcRVeYh1RDK"
      },
      "source": [
        "1.3.11 Задан двумерный тензор `ar1` размерности (20, 5), состоящий из случайных целых чисел в пределах от 0 до 20. Определить, в каких столбцах не менее 5 раз встречается значение, максимальное по своей строке."
      ]
    },
    {
      "cell_type": "code",
      "source": [
        "a1 = torch.randint(0, 21, size=(20, 5))\n",
        "print(a1, \"\\n\")\n",
        "condition = (a1.T == a1.max(axis=1).values).T.sum(axis=0) > 5\n",
        "res = (condition).nonzero(as_tuple=True)\n",
        "res[0]\n"
      ],
      "metadata": {
        "id": "bkocrdwri-R5"
      },
      "execution_count": null,
      "outputs": []
    },
    {
      "cell_type": "markdown",
      "metadata": {
        "id": "ZeYlNWNE1RDK"
      },
      "source": [
        "1.3.12 Задан двумерный тензор `ar1` размерности (4, 7), состоящий из случайных  чисел в пределах от 0 до 1. Обнулить все значения в массиве, расположенные строго правее и ниже максимального элемента массива. "
      ]
    },
    {
      "cell_type": "code",
      "source": [
        "ar1 = torch.rand((4, 7))\n",
        "print(ar1)\n",
        "maximum = ar1.max().item()\n",
        "print(maximum)\n",
        "\n",
        "ar1[(ar1 == maximum).nonzero(as_tuple=True)[0][0] + 1:, (ar1 == maximum).nonzero(as_tuple=True)[1][0] + 1:] = 0\n",
        "ar1"
      ],
      "metadata": {
        "id": "2jAH_rfZjAkx"
      },
      "execution_count": null,
      "outputs": []
    },
    {
      "cell_type": "markdown",
      "metadata": {
        "id": "pYxX90B11RDL"
      },
      "source": [
        "1.3.13 Построить \"one-hot encoding\" для одномерного тензора, содержащего целые числа (длина вектора заранее неизвестна, набор значений заранее неизвестен, при этом в итоговой матрице должны присутствовать столбцы для всех натуральных чисел вплоть до максимального встречающегося в исходном массиве).\n",
        "\n",
        "Пример:\n",
        "\n",
        "для тензора `torch.tensor([2, 3, 2, 2, 2, 1])`.\n",
        "\n",
        "Ожидается результат:\n",
        "\n",
        "```python\n",
        "tensor([[0., 1., 0.],\n",
        "        [0., 0., 1.],\n",
        "        [0., 1., 0.],\n",
        "        [0., 1., 0.],\n",
        "        [0., 1., 0.],\n",
        "        [1., 0., 0.]])\n",
        "```"
      ]
    },
    {
      "cell_type": "code",
      "source": [
        "arr = torch.tensor([2, 3, 2, 2, 2, 1])\n",
        "res = torch.zeros(arr.size()[0], arr.max())\n",
        "res[torch.arange(arr.size()[0]), arr-1] = 1\n",
        "res"
      ],
      "metadata": {
        "id": "lDnStbW7jGZD"
      },
      "execution_count": null,
      "outputs": []
    },
    {
      "cell_type": "markdown",
      "metadata": {
        "id": "GYU8DmNTDLN8"
      },
      "source": [
        "1.3.14 Создать тензор `arr` из 20 случайных целых чисел от 0 до 100. Найти самое частое значение в тензоре. \n",
        "Найти индексы в тензоре, соответствующие самому частому значению. Проверить, как работет алгоритм при двух значениях, имеющих наибольшую встречаемость, предложить приемлемое поведение алгоритма для этого случая. "
      ]
    },
    {
      "cell_type": "code",
      "source": [
        "arr = torch.randint(0, 101, size=[20])\n",
        "print(arr)\n",
        "most_value = torch.mode(arr)[0]\n",
        "print(most_value)\n",
        "res = (arr == most_value).nonzero(as_tuple=True)[0].tolist()\n",
        "res"
      ],
      "metadata": {
        "id": "lmbYGoVyjI0u"
      },
      "execution_count": null,
      "outputs": []
    },
    {
      "cell_type": "markdown",
      "metadata": {
        "id": "UenAEfEG1RDN"
      },
      "source": [
        "## 1.4 Математические задачи"
      ]
    },
    {
      "cell_type": "markdown",
      "metadata": {
        "id": "6weDrqJR1RDN"
      },
      "source": [
        "1.4.1 Приблизительно (с погрешностью порядка 1%) рассчитать на какой части интервала от 0 до 10 значение функции x * sin(x) больше 0.5."
      ]
    },
    {
      "cell_type": "code",
      "source": [
        "n = 100000\n",
        "arr = torch.linspace(0, 10, n)\n",
        "print(arr)\n",
        "((arr * torch.sin(arr)) > 0.5).sum() / n"
      ],
      "metadata": {
        "id": "E1Q-3OgDjLRe"
      },
      "execution_count": null,
      "outputs": []
    },
    {
      "cell_type": "markdown",
      "metadata": {
        "id": "B9xAv8TR1RDN"
      },
      "source": [
        "1.4.2 Найти все простые числа в пределах ста. (Для решения предлагается использовать Решето Эратосфена) Использовать не более 1 цикла (желательно)."
      ]
    },
    {
      "cell_type": "code",
      "source": [
        "arr = torch.arange(2, 101)\n",
        "for item in arr:\n",
        "    mask = (arr % item != 0) | (arr == item)\n",
        "    arr = arr[mask]\n",
        "    print(arr.tolist())\n",
        "arr"
      ],
      "metadata": {
        "id": "OfKI4VWnjNM_"
      },
      "execution_count": null,
      "outputs": []
    },
    {
      "cell_type": "markdown",
      "metadata": {
        "id": "AHupFoTR1RDN"
      },
      "source": [
        "1.4.3 Найти евклидово расстояние между двумя одномерными тензорами одинаковой размерности, не используя готовые решения из библиотек."
      ]
    },
    {
      "cell_type": "code",
      "source": [
        "x = torch.tensor([2, 3, 4, 5, 6, 7, 8, 9, 10])\n",
        "y = torch.tensor([1, 2, 3, 4, 5, 6, 7, 8, 9])\n",
        "\n",
        "\n",
        "res = ((x - y) ** 2).sum().item()\n",
        "res"
      ],
      "metadata": {
        "id": "JS6L7LYMjPg8"
      },
      "execution_count": null,
      "outputs": []
    },
    {
      "cell_type": "markdown",
      "metadata": {
        "id": "j-ZvjWDKDVMQ"
      },
      "source": [
        "1.4.4 Создать двумерный тензор 20 на 3, содержащий случайные целые числа от 0 до 100. \n",
        "Интерпретируя тензор как 20 векторов из 3х компонент, отсортировать его по длине векторов."
      ]
    },
    {
      "cell_type": "code",
      "source": [
        "arr = torch.randint(0, 101, size=[20, 3])\n",
        "print(arr,\"\\n\")\n",
        "\n",
        "mask = (arr ** 2).sum(axis=1).sort().indices\n",
        "print(\"mask:\\n\",mask)\n",
        "res = arr[mask]\n",
        "res"
      ],
      "metadata": {
        "id": "OfsywZU2jRpc"
      },
      "execution_count": null,
      "outputs": []
    },
    {
      "cell_type": "markdown",
      "metadata": {
        "id": "IkBRFTKa1RDO"
      },
      "source": [
        "1.4.5 Найти \"локальные максимумы\" в одномерном тензоре (т.е. значения, большие предыдущего и последующего) `torch.tensor([1, 3, 7, 1, 2, 6, 0, 1])` и вывести их индексы."
      ]
    },
    {
      "cell_type": "code",
      "source": [
        "arr = torch.tensor([1, 3, 7, 10, 2, 6, 10, 1])\n",
        "print(arr)\n",
        "\n",
        "a = torch.diff(arr)[:-1]\n",
        "print(a)\n",
        "b = torch.diff(arr.flip(0)).flip(0)[ 1:]\n",
        "print(b)\n",
        "\n",
        "print(((a > 0) & (b > 0)).nonzero( as_tuple= True)[0] + 1)"
      ],
      "metadata": {
        "id": "alRU9uiujUJF"
      },
      "execution_count": null,
      "outputs": []
    },
    {
      "cell_type": "markdown",
      "metadata": {
        "id": "VXD58rlc1RDP"
      },
      "source": [
        "1.4.6 Задан произвольный массив numpy (например массив из 100 случайных числе от 0 до 1). Необходимо найти в нем число наиболее близкое к заданному."
      ]
    },
    {
      "cell_type": "code",
      "source": [
        "arr =  torch.rand(100)\n",
        "print(arr)\n",
        "a = 0.52\n",
        "print(a)\n",
        "index = (np.abs(arr-a)).argmin()\n",
        "print(arr[index])"
      ],
      "metadata": {
        "id": "C9wvh8bEjWTh"
      },
      "execution_count": null,
      "outputs": []
    },
    {
      "cell_type": "markdown",
      "metadata": {
        "id": "81F_B2ij1RDP"
      },
      "source": [
        "1.4.7 Решить матричное уравнение `A*X*B=-C` - найти матрицу X. Где `A = [[-1, 2, 4], [-3, 1, 2], [-3, 0, 1]]`, `B=[[3, -1], [2, 1]]`, `C=[[7, 21], [11, 8], [8, 4]]`."
      ]
    },
    {
      "cell_type": "code",
      "source": [
        "A = torch.tensor([[-1., 2, 4], [-3, 1, 2], [-3, 0, 1]])\n",
        "B = torch.tensor([[3., -1], [2, 1]])\n",
        "C = torch.tensor([[7., 21], [11, 8], [8, 4]])\n",
        "print((torch.inverse(A) @ C @ torch.inverse(B)).round())"
      ],
      "metadata": {
        "id": "nWRF9VovjYmc"
      },
      "execution_count": null,
      "outputs": []
    },
    {
      "cell_type": "markdown",
      "metadata": {
        "id": "1P7O19bj1RDP"
      },
      "source": [
        "1.4.8 Проверить, является ли система векторов a1 = (3; −3; 0; 7),\n",
        "a2 = (2; 2; 4; 7), a3 = (1; 2; 3; 4), a4 = (5; −4; 1; 3) линейно зависимой?"
      ]
    },
    {
      "cell_type": "code",
      "source": [
        "res_dict = {0: \"Вектора линейно зависимы\", 1: \"Вектора линейно независимы\"}\n",
        "a1 = [3., -3, 0, 7]\n",
        "a2 = [2, 2, 4, 7]\n",
        "a3 = [1, 2, 3, 4]\n",
        "a4 = [5, -4, 1, 3]\n",
        "\n",
        "res = torch.tensor([a1, a2, a3, a4])\n",
        "res_dict[int(res.det().round().tolist())]"
      ],
      "metadata": {
        "id": "0P_9AW4pjcb8"
      },
      "execution_count": null,
      "outputs": []
    }
  ],
  "metadata": {
    "colab": {
      "provenance": [],
      "toc_visible": true,
      "include_colab_link": true
    },
    "kernelspec": {
      "display_name": "Python 3 (ipykernel)",
      "language": "python",
      "name": "python3"
    },
    "language_info": {
      "codemirror_mode": {
        "name": "ipython",
        "version": 3
      },
      "file_extension": ".py",
      "mimetype": "text/x-python",
      "name": "python",
      "nbconvert_exporter": "python",
      "pygments_lexer": "ipython3",
      "version": "3.9.13"
    }
  },
  "nbformat": 4,
  "nbformat_minor": 0
}